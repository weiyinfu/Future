{
 "cells": [
  {
   "cell_type": "markdown",
   "metadata": {},
   "source": [
    "# Exploratory Data Analysis (EDA) of ETFs"
   ]
  },
  {
   "cell_type": "markdown",
   "metadata": {
    "collapsed": true
   },
   "source": [
    "Original data from https://s3.amazonaws.com/zanran_storage/www.etftopics.com/ContentPages/13968652.xls , modified and available locally as ETFs.csv . \n",
    "\n",
    "This notebook only works in Quantopian Research, but one only needs to modify the loading of the file to work with it locally."
   ]
  },
  {
   "cell_type": "code",
   "execution_count": 193,
   "metadata": {
    "collapsed": false
   },
   "outputs": [],
   "source": [
    "import numpy as np\n",
    "import pandas as pd\n",
    "import matplotlib.pyplot as pyplot\n",
    "import seaborn as sns"
   ]
  },
  {
   "cell_type": "code",
   "execution_count": 194,
   "metadata": {
    "collapsed": false
   },
   "outputs": [
    {
     "data": {
      "text/html": [
       "<div style=\"max-height:1000px;max-width:1500px;overflow:auto;\">\n",
       "<table border=\"1\" class=\"dataframe\">\n",
       "  <thead>\n",
       "    <tr style=\"text-align: right;\">\n",
       "      <th></th>\n",
       "      <th>Name</th>\n",
       "      <th>Index</th>\n",
       "      <th>Description</th>\n",
       "      <th>Category</th>\n",
       "      <th>Provider</th>\n",
       "      <th>Expense_Ratio</th>\n",
       "      <th>Dividend</th>\n",
       "      <th>Div_Yield</th>\n",
       "      <th>Market_Cap</th>\n",
       "      <th>Shares</th>\n",
       "      <th>...</th>\n",
       "      <th>Beta</th>\n",
       "      <th>Asset</th>\n",
       "      <th>Size</th>\n",
       "      <th>Style</th>\n",
       "      <th>Region</th>\n",
       "      <th>Sector</th>\n",
       "      <th>Leveraged</th>\n",
       "      <th>Inverse</th>\n",
       "      <th>Top_Holdings</th>\n",
       "      <th>Chart</th>\n",
       "    </tr>\n",
       "    <tr>\n",
       "      <th>Symbol</th>\n",
       "      <th></th>\n",
       "      <th></th>\n",
       "      <th></th>\n",
       "      <th></th>\n",
       "      <th></th>\n",
       "      <th></th>\n",
       "      <th></th>\n",
       "      <th></th>\n",
       "      <th></th>\n",
       "      <th></th>\n",
       "      <th></th>\n",
       "      <th></th>\n",
       "      <th></th>\n",
       "      <th></th>\n",
       "      <th></th>\n",
       "      <th></th>\n",
       "      <th></th>\n",
       "      <th></th>\n",
       "      <th></th>\n",
       "      <th></th>\n",
       "      <th></th>\n",
       "    </tr>\n",
       "  </thead>\n",
       "  <tbody>\n",
       "    <tr>\n",
       "      <th>AAXJ</th>\n",
       "      <td>iShares MSCI All Country Asia ex Japan Index Fund</td>\n",
       "      <td>MSCI All Country Asia ex Japan Index</td>\n",
       "      <td>The index measures the performance of 11 devel...</td>\n",
       "      <td>Asia Pacific Equities</td>\n",
       "      <td>iShares</td>\n",
       "      <td>0.7400%</td>\n",
       "      <td>$0.36</td>\n",
       "      <td>1.8400%</td>\n",
       "      <td>$1,687.89</td>\n",
       "      <td>31</td>\n",
       "      <td>...</td>\n",
       "      <td>1</td>\n",
       "      <td>Equity</td>\n",
       "      <td>NaN</td>\n",
       "      <td>NaN</td>\n",
       "      <td>Pacific ex-Japan</td>\n",
       "      <td>NaN</td>\n",
       "      <td>NaN</td>\n",
       "      <td>NaN</td>\n",
       "      <td>NaN</td>\n",
       "      <td>NaN</td>\n",
       "    </tr>\n",
       "    <tr>\n",
       "      <th>ACWI</th>\n",
       "      <td>MSCI All Country World Index Fund</td>\n",
       "      <td>MSCI All Country World Index</td>\n",
       "      <td>The Index is designed to measure the performan...</td>\n",
       "      <td>Global Equities</td>\n",
       "      <td>iShares</td>\n",
       "      <td>0.3500%</td>\n",
       "      <td>$0.36</td>\n",
       "      <td>1.4100%</td>\n",
       "      <td>$1,176.64</td>\n",
       "      <td>30</td>\n",
       "      <td>...</td>\n",
       "      <td>1</td>\n",
       "      <td>Equity</td>\n",
       "      <td>Large-Cap</td>\n",
       "      <td>Blend</td>\n",
       "      <td>Global/Multi-Region</td>\n",
       "      <td>NaN</td>\n",
       "      <td>NaN</td>\n",
       "      <td>NaN</td>\n",
       "      <td>NaN</td>\n",
       "      <td>NaN</td>\n",
       "    </tr>\n",
       "  </tbody>\n",
       "</table>\n",
       "<p>2 rows × 21 columns</p>\n",
       "</div>"
      ],
      "text/plain": [
       "                                                     Name  \\\n",
       "Symbol                                                      \n",
       "AAXJ    iShares MSCI All Country Asia ex Japan Index Fund   \n",
       "ACWI                    MSCI All Country World Index Fund   \n",
       "\n",
       "                                       Index  \\\n",
       "Symbol                                         \n",
       "AAXJ    MSCI All Country Asia ex Japan Index   \n",
       "ACWI            MSCI All Country World Index   \n",
       "\n",
       "                                              Description  \\\n",
       "Symbol                                                      \n",
       "AAXJ    The index measures the performance of 11 devel...   \n",
       "ACWI    The Index is designed to measure the performan...   \n",
       "\n",
       "                     Category Provider Expense_Ratio Dividend Div_Yield  \\\n",
       "Symbol                                                                    \n",
       "AAXJ    Asia Pacific Equities  iShares       0.7400%    $0.36   1.8400%   \n",
       "ACWI          Global Equities  iShares       0.3500%    $0.36   1.4100%   \n",
       "\n",
       "       Market_Cap  Shares  ...    Beta   Asset       Size  Style  \\\n",
       "Symbol                     ...                                     \n",
       "AAXJ    $1,687.89      31  ...       1  Equity        NaN    NaN   \n",
       "ACWI    $1,176.64      30  ...       1  Equity  Large-Cap  Blend   \n",
       "\n",
       "                     Region Sector Leveraged Inverse Top_Holdings  Chart  \n",
       "Symbol                                                                    \n",
       "AAXJ       Pacific ex-Japan    NaN       NaN     NaN          NaN    NaN  \n",
       "ACWI    Global/Multi-Region    NaN       NaN     NaN          NaN    NaN  \n",
       "\n",
       "[2 rows x 21 columns]"
      ]
     },
     "execution_count": 194,
     "metadata": {},
     "output_type": "execute_result"
    }
   ],
   "source": [
    "ETFs = local_csv('ETFs.csv', skipinitialspace=True, \n",
    "                    na_values=['n/a','NaN'], thousands=',')\n",
    "ETFs = ETFs.set_index('Symbol')\n",
    "ETFs[:2]"
   ]
  },
  {
   "cell_type": "code",
   "execution_count": 195,
   "metadata": {
    "collapsed": false
   },
   "outputs": [],
   "source": [
    "del ETFs['Top_Holdings']\n",
    "del ETFs['Chart']"
   ]
  },
  {
   "cell_type": "code",
   "execution_count": 196,
   "metadata": {
    "collapsed": false
   },
   "outputs": [
    {
     "data": {
      "text/plain": [
       "Index([u'Name', u'Index', u'Description', u'Category', u'Provider', u'Expense_Ratio', u'Dividend', u'Div_Yield', u'Market_Cap', u'Shares', u'Avg_Vol', u'Beta', u'Asset', u'Size', u'Style', u'Region', u'Sector', u'Leveraged', u'Inverse'], dtype='object')"
      ]
     },
     "execution_count": 196,
     "metadata": {},
     "output_type": "execute_result"
    }
   ],
   "source": [
    "ETFs.columns"
   ]
  },
  {
   "cell_type": "code",
   "execution_count": 197,
   "metadata": {
    "collapsed": false
   },
   "outputs": [],
   "source": [
    "def p2f(x):\n",
    "    if type(x) is str:\n",
    "        return float(x.strip('%'))/100\n",
    "    else:\n",
    "        return x / 100\n",
    "\n",
    "def d2f(x):\n",
    "    if type(x) is str:\n",
    "        return float(x.strip('$').replace(',',''))\n",
    "    else:\n",
    "        return x\n",
    "\n",
    "def s2b(x):\n",
    "    if type(x) is str:\n",
    "        if x == 'Yes':\n",
    "            return True\n",
    "        else:\n",
    "            return False\n",
    "    else:\n",
    "        return False        "
   ]
  },
  {
   "cell_type": "code",
   "execution_count": 198,
   "metadata": {
    "collapsed": false
   },
   "outputs": [
    {
     "data": {
      "text/html": [
       "<div style=\"max-height:1000px;max-width:1500px;overflow:auto;\">\n",
       "<table border=\"1\" class=\"dataframe\">\n",
       "  <thead>\n",
       "    <tr style=\"text-align: right;\">\n",
       "      <th></th>\n",
       "      <th>Name</th>\n",
       "      <th>Index</th>\n",
       "      <th>Description</th>\n",
       "      <th>Category</th>\n",
       "      <th>Provider</th>\n",
       "      <th>Expense_Ratio</th>\n",
       "      <th>Dividend</th>\n",
       "      <th>Div_Yield</th>\n",
       "      <th>Market_Cap</th>\n",
       "      <th>Shares</th>\n",
       "      <th>Avg_Vol</th>\n",
       "      <th>Beta</th>\n",
       "      <th>Asset</th>\n",
       "      <th>Size</th>\n",
       "      <th>Style</th>\n",
       "      <th>Region</th>\n",
       "      <th>Sector</th>\n",
       "      <th>Leveraged</th>\n",
       "      <th>Inverse</th>\n",
       "    </tr>\n",
       "    <tr>\n",
       "      <th>Symbol</th>\n",
       "      <th></th>\n",
       "      <th></th>\n",
       "      <th></th>\n",
       "      <th></th>\n",
       "      <th></th>\n",
       "      <th></th>\n",
       "      <th></th>\n",
       "      <th></th>\n",
       "      <th></th>\n",
       "      <th></th>\n",
       "      <th></th>\n",
       "      <th></th>\n",
       "      <th></th>\n",
       "      <th></th>\n",
       "      <th></th>\n",
       "      <th></th>\n",
       "      <th></th>\n",
       "      <th></th>\n",
       "      <th></th>\n",
       "    </tr>\n",
       "  </thead>\n",
       "  <tbody>\n",
       "    <tr>\n",
       "      <th>AAXJ</th>\n",
       "      <td>iShares MSCI All Country Asia ex Japan Index Fund</td>\n",
       "      <td>MSCI All Country Asia ex Japan Index</td>\n",
       "      <td>The index measures the performance of 11 devel...</td>\n",
       "      <td>Asia Pacific Equities</td>\n",
       "      <td>iShares</td>\n",
       "      <td>0.0074</td>\n",
       "      <td>0.36</td>\n",
       "      <td>0.0184</td>\n",
       "      <td>1687.89</td>\n",
       "      <td>31</td>\n",
       "      <td>527890</td>\n",
       "      <td>1</td>\n",
       "      <td>Equity</td>\n",
       "      <td>NaN</td>\n",
       "      <td>NaN</td>\n",
       "      <td>Pacific ex-Japan</td>\n",
       "      <td>NaN</td>\n",
       "      <td>NaN</td>\n",
       "      <td>False</td>\n",
       "    </tr>\n",
       "    <tr>\n",
       "      <th>ACWI</th>\n",
       "      <td>MSCI All Country World Index Fund</td>\n",
       "      <td>MSCI All Country World Index</td>\n",
       "      <td>The Index is designed to measure the performan...</td>\n",
       "      <td>Global Equities</td>\n",
       "      <td>iShares</td>\n",
       "      <td>0.0035</td>\n",
       "      <td>0.36</td>\n",
       "      <td>0.0141</td>\n",
       "      <td>1176.64</td>\n",
       "      <td>30</td>\n",
       "      <td>379781</td>\n",
       "      <td>1</td>\n",
       "      <td>Equity</td>\n",
       "      <td>Large-Cap</td>\n",
       "      <td>Blend</td>\n",
       "      <td>Global/Multi-Region</td>\n",
       "      <td>NaN</td>\n",
       "      <td>NaN</td>\n",
       "      <td>False</td>\n",
       "    </tr>\n",
       "    <tr>\n",
       "      <th>ACWX</th>\n",
       "      <td>iShares MSCI ACWI ex US Index Fund</td>\n",
       "      <td>MSCI All Country World ex-U.S. Index</td>\n",
       "      <td>The index measures the performance of global e...</td>\n",
       "      <td>Global Equities</td>\n",
       "      <td>iShares</td>\n",
       "      <td>0.0035</td>\n",
       "      <td>0.52</td>\n",
       "      <td>0.0147</td>\n",
       "      <td>654.07</td>\n",
       "      <td>17</td>\n",
       "      <td>161924</td>\n",
       "      <td>1</td>\n",
       "      <td>Equity</td>\n",
       "      <td>Large-Cap</td>\n",
       "      <td>Blend</td>\n",
       "      <td>Ex-U.S.</td>\n",
       "      <td>NaN</td>\n",
       "      <td>NaN</td>\n",
       "      <td>False</td>\n",
       "    </tr>\n",
       "  </tbody>\n",
       "</table>\n",
       "</div>"
      ],
      "text/plain": [
       "                                                     Name  \\\n",
       "Symbol                                                      \n",
       "AAXJ    iShares MSCI All Country Asia ex Japan Index Fund   \n",
       "ACWI                    MSCI All Country World Index Fund   \n",
       "ACWX                   iShares MSCI ACWI ex US Index Fund   \n",
       "\n",
       "                                       Index  \\\n",
       "Symbol                                         \n",
       "AAXJ    MSCI All Country Asia ex Japan Index   \n",
       "ACWI            MSCI All Country World Index   \n",
       "ACWX    MSCI All Country World ex-U.S. Index   \n",
       "\n",
       "                                              Description  \\\n",
       "Symbol                                                      \n",
       "AAXJ    The index measures the performance of 11 devel...   \n",
       "ACWI    The Index is designed to measure the performan...   \n",
       "ACWX    The index measures the performance of global e...   \n",
       "\n",
       "                     Category Provider  Expense_Ratio  Dividend  Div_Yield  \\\n",
       "Symbol                                                                       \n",
       "AAXJ    Asia Pacific Equities  iShares         0.0074      0.36     0.0184   \n",
       "ACWI          Global Equities  iShares         0.0035      0.36     0.0141   \n",
       "ACWX          Global Equities  iShares         0.0035      0.52     0.0147   \n",
       "\n",
       "        Market_Cap  Shares  Avg_Vol  Beta   Asset       Size  Style  \\\n",
       "Symbol                                                                \n",
       "AAXJ       1687.89      31   527890     1  Equity        NaN    NaN   \n",
       "ACWI       1176.64      30   379781     1  Equity  Large-Cap  Blend   \n",
       "ACWX        654.07      17   161924     1  Equity  Large-Cap  Blend   \n",
       "\n",
       "                     Region Sector Leveraged Inverse  \n",
       "Symbol                                                \n",
       "AAXJ       Pacific ex-Japan    NaN       NaN   False  \n",
       "ACWI    Global/Multi-Region    NaN       NaN   False  \n",
       "ACWX                Ex-U.S.    NaN       NaN   False  "
      ]
     },
     "execution_count": 198,
     "metadata": {},
     "output_type": "execute_result"
    }
   ],
   "source": [
    "# Apply conversions\n",
    "ETFs.Expense_Ratio = ETFs.Expense_Ratio.apply(p2f) \n",
    "ETFs.Dividend = ETFs.Dividend.apply(d2f)\n",
    "ETFs.Div_Yield = ETFs.Div_Yield.apply(p2f)\n",
    "ETFs.Market_Cap = ETFs.Market_Cap.apply(d2f)\n",
    "ETFs.Inverse = ETFs.Inverse.apply(s2b)\n",
    "ETFs[:3]"
   ]
  },
  {
   "cell_type": "code",
   "execution_count": 199,
   "metadata": {
    "collapsed": false
   },
   "outputs": [
    {
     "data": {
      "text/plain": [
       "1020"
      ]
     },
     "execution_count": 199,
     "metadata": {},
     "output_type": "execute_result"
    }
   ],
   "source": [
    "len(ETFs.index)"
   ]
  },
  {
   "cell_type": "code",
   "execution_count": 223,
   "metadata": {
    "collapsed": false
   },
   "outputs": [
    {
     "data": {
      "text/plain": [
       "Leveraged Equities                   120\n",
       "Emerging Markets Equities             46\n",
       "Energy Equities                       40\n",
       "Large Cap Value Equities              36\n",
       "Technology Equities                   32\n",
       "Large Cap Blend Equities              30\n",
       "Currency                              29\n",
       "Financials Equities                   28\n",
       "Europe Equities                       25\n",
       "Foreign Large Cap Equities            25\n",
       "Health & Biotech Equities             22\n",
       "National Munis                        21\n",
       "Commodities                           19\n",
       "All Cap Equities                      19\n",
       "Commodity Producers Equities          18\n",
       "Precious Metals                       18\n",
       "Government Bonds                      18\n",
       "Leveraged Commodities                 18\n",
       "Large Cap Growth Equities             18\n",
       "Asia Pacific Equities                 17\n",
       "China Equities                        16\n",
       "Quantitative Methodology Indexes      16\n",
       "Global Equities                       16\n",
       "Oil & Gas                             15\n",
       "Inverse Equities                      15\n",
       "Small Cap Blend Equities              15\n",
       "Consumer Discretionary Equities       14\n",
       "Miscellaneous Sector Equities         14\n",
       "Utilities Equities                    14\n",
       "Real Estate                           12\n",
       "                                    ... \n",
       "Consumer Staples Equities             11\n",
       "Corporate Bonds                       11\n",
       "Latin America Equities                10\n",
       "Materials                             10\n",
       "Foreign Small & Mid Cap Equities      10\n",
       "Diversified Portfolio                 10\n",
       "Small Cap Value Equities              10\n",
       "Global Real Estate                     9\n",
       "Mid Cap Value Equities                 9\n",
       "Metals                                 9\n",
       "Communications Equities                8\n",
       "Inverse Commodities                    8\n",
       "Mid Cap Growth Equities                8\n",
       "Japan Equities                         8\n",
       "Leveraged Real Estate                  7\n",
       "Small Cap Growth Equities              7\n",
       "Money Market                           7\n",
       "Leveraged Currency                     6\n",
       "Inflation-Protected Bonds              6\n",
       "Hedge Fund                             6\n",
       "Long-Short                             6\n",
       "Preferred Stock/Convertible Bonds      5\n",
       "International Government Bonds         4\n",
       "Transportation Equities                4\n",
       "Mortgage Backed Securities             3\n",
       "High Yield Bonds                       3\n",
       "California Munis                       3\n",
       "New York Munis                         3\n",
       "Volatility                             2\n",
       "Emerging Markets Bonds                 2\n",
       "dtype: int64"
      ]
     },
     "execution_count": 223,
     "metadata": {},
     "output_type": "execute_result"
    }
   ],
   "source": [
    "ETFs.Category.value_counts()"
   ]
  },
  {
   "cell_type": "code",
   "execution_count": 222,
   "metadata": {
    "collapsed": false
   },
   "outputs": [
    {
     "data": {
      "text/plain": [
       "iShares                    201\n",
       "Invesco PowerShares        146\n",
       "ProShares                  111\n",
       "State Street                89\n",
       "Wisdom Tree                 52\n",
       "Vanguard                    46\n",
       "First Trust                 44\n",
       "Rydex                       40\n",
       "Barclays iPath              38\n",
       "Claymore                    36\n",
       "Direxion                    34\n",
       "Van Eck                     29\n",
       "Merrill Lynch HOLDRs        17\n",
       "ELEMENTS                    16\n",
       "UBS                         13\n",
       "PIMCO                       10\n",
       "Global X                    10\n",
       "IndexIQ                      9\n",
       "Charles Schwab               8\n",
       "Grail Advisors               7\n",
       "US Commodity Funds           7\n",
       "EG Shares                    6\n",
       "XShares                      6\n",
       "RevenueShares                6\n",
       "GlobalShares                 5\n",
       "FaithShares                  5\n",
       "ETF Securities               4\n",
       "MacroMarkets                 4\n",
       "Jefferies                    4\n",
       "Credit Suisse                2\n",
       "JP Morgan                    2\n",
       "Javelin Funds                2\n",
       "Geary Advisors               2\n",
       "ALPS                         2\n",
       "Goldman Sachs                2\n",
       "GreenHaven                   1\n",
       "Fidelity                     1\n",
       "AdvisorShares                1\n",
       "Sprott Asset Management      1\n",
       "U.S. One                     1\n",
       "dtype: int64"
      ]
     },
     "execution_count": 222,
     "metadata": {},
     "output_type": "execute_result"
    }
   ],
   "source": [
    "ETFs.Provider.value_counts()"
   ]
  },
  {
   "cell_type": "code",
   "execution_count": 202,
   "metadata": {
    "collapsed": false
   },
   "outputs": [
    {
     "data": {
      "text/plain": [
       "<matplotlib.axes._subplots.AxesSubplot at 0x7f85b3e2c3d0>"
      ]
     },
     "execution_count": 202,
     "metadata": {},
     "output_type": "execute_result"
    },
    {
     "data": {
      "image/png": "[encoded data removed]",
      "text/plain": [
       "<matplotlib.figure.Figure at 0x7f85b7ce6210>"
      ]
     },
     "metadata": {},
     "output_type": "display_data"
    }
   ],
   "source": [
    "ETFs.Expense_Ratio.plot(kind='hist')"
   ]
  },
  {
   "cell_type": "code",
   "execution_count": 203,
   "metadata": {
    "collapsed": false
   },
   "outputs": [
    {
     "data": {
      "text/plain": [
       "<matplotlib.axes._subplots.AxesSubplot at 0x7f85b3bd19d0>"
      ]
     },
     "execution_count": 203,
     "metadata": {},
     "output_type": "execute_result"
    },
    {
     "data": {
      "image/png": "[encoded data removed]",
      "text/plain": [
       "<matplotlib.figure.Figure at 0x7f85b3c04190>"
      ]
     },
     "metadata": {},
     "output_type": "display_data"
    }
   ],
   "source": [
    "ETFs.Dividend.plot(kind='hist', bins=20)"
   ]
  },
  {
   "cell_type": "code",
   "execution_count": 204,
   "metadata": {
    "collapsed": false
   },
   "outputs": [
    {
     "data": {
      "text/plain": [
       "<matplotlib.axes._subplots.AxesSubplot at 0x7f85b3adf390>"
      ]
     },
     "execution_count": 204,
     "metadata": {},
     "output_type": "execute_result"
    },
    {
     "data": {
      "image/png": "[encoded data removed]",
      "text/plain": [
       "<matplotlib.figure.Figure at 0x7f85b3b62c90>"
      ]
     },
     "metadata": {},
     "output_type": "display_data"
    }
   ],
   "source": [
    "ETFs.Div_Yield.plot(kind='hist', bins=20)"
   ]
  },
  {
   "cell_type": "code",
   "execution_count": 205,
   "metadata": {
    "collapsed": false
   },
   "outputs": [
    {
     "data": {
      "text/plain": [
       "<matplotlib.axes._subplots.AxesSubplot at 0x7f85b3998510>"
      ]
     },
     "execution_count": 205,
     "metadata": {},
     "output_type": "execute_result"
    },
    {
     "data": {
      "image/png": "[encoded data removed]",
      "text/plain": [
       "<matplotlib.figure.Figure at 0x7f85b3a06290>"
      ]
     },
     "metadata": {},
     "output_type": "display_data"
    }
   ],
   "source": [
    "ETFs.Market_Cap.plot(kind='hist',bins=40)"
   ]
  },
  {
   "cell_type": "code",
   "execution_count": 221,
   "metadata": {
    "collapsed": false
   },
   "outputs": [
    {
     "data": {
      "text/plain": [
       "Equity         725\n",
       "Bond           106\n",
       "Commodity      100\n",
       "Currency        35\n",
       "Real Estate     28\n",
       "Multi-Asset     26\n",
       "dtype: int64"
      ]
     },
     "execution_count": 221,
     "metadata": {},
     "output_type": "execute_result"
    }
   ],
   "source": [
    "ETFs.Asset.value_counts()"
   ]
  },
  {
   "cell_type": "code",
   "execution_count": 220,
   "metadata": {
    "collapsed": false
   },
   "outputs": [
    {
     "data": {
      "text/plain": [
       "Large-Cap    205\n",
       "Small-Cap     79\n",
       "Mid-Cap       53\n",
       "Multi-Cap     24\n",
       "dtype: int64"
      ]
     },
     "execution_count": 220,
     "metadata": {},
     "output_type": "execute_result"
    }
   ],
   "source": [
    "ETFs.Size.value_counts()"
   ]
  },
  {
   "cell_type": "code",
   "execution_count": 219,
   "metadata": {
    "collapsed": false
   },
   "outputs": [
    {
     "data": {
      "text/plain": [
       "Blend     177\n",
       "Value      85\n",
       "Growth     59\n",
       "dtype: int64"
      ]
     },
     "execution_count": 219,
     "metadata": {},
     "output_type": "execute_result"
    }
   ],
   "source": [
    "ETFs.Style.value_counts()"
   ]
  },
  {
   "cell_type": "code",
   "execution_count": 209,
   "metadata": {
    "collapsed": false
   },
   "outputs": [
    {
     "data": {
      "text/plain": [
       "<matplotlib.axes._subplots.AxesSubplot at 0x7f85b38f3690>"
      ]
     },
     "execution_count": 209,
     "metadata": {},
     "output_type": "execute_result"
    },
    {
     "data": {
      "image/png": "[encoded data removed]",
      "text/plain": [
       "<matplotlib.figure.Figure at 0x7f85b3915cd0>"
      ]
     },
     "metadata": {},
     "output_type": "display_data"
    }
   ],
   "source": [
    "ETFs.Beta.plot(kind='hist',bins=8)"
   ]
  },
  {
   "cell_type": "code",
   "execution_count": 218,
   "metadata": {
    "collapsed": false
   },
   "outputs": [
    {
     "data": {
      "text/plain": [
       "U.S.                   460\n",
       "Global/Multi-Region    107\n",
       "Emerging Markets        28\n",
       "China                   20\n",
       "Europe                  15\n",
       "Japan                   10\n",
       "Developed Markets        9\n",
       "Ex-U.S.                  9\n",
       "EAFE                     8\n",
       "Asia                     7\n",
       "India                    6\n",
       "Pacific ex-Japan         6\n",
       "BRIC                     5\n",
       "Brazil                   5\n",
       "Latin America            5\n",
       "Canada                   3\n",
       "Euro-Pacific             3\n",
       "Middle East              3\n",
       "Mexico                   3\n",
       "South Korea              2\n",
       "Africa                   2\n",
       "Taiwan                   2\n",
       "Australia                2\n",
       "Russia                   2\n",
       "Indonesia                2\n",
       "Middle East/Africa       2\n",
       "Israel                   1\n",
       "Colombia                 1\n",
       "Austria                  1\n",
       "France                   1\n",
       "Turkey                   1\n",
       "Ireland                  1\n",
       "Italy                    1\n",
       "Switzerland              1\n",
       "Malaysia                 1\n",
       "United Kingdom           1\n",
       "Germany                  1\n",
       "Pacific                  1\n",
       "Singapore                1\n",
       "Chindia                  1\n",
       "Nordic                   1\n",
       "Poland                   1\n",
       "Chile                    1\n",
       "Belgium                  1\n",
       "Thailand                 1\n",
       "Hong Kong                1\n",
       "Netherlands              1\n",
       "South Africa             1\n",
       "Peru                     1\n",
       "North America            1\n",
       "Sweden                   1\n",
       "Vietnam                  1\n",
       "Spain                    1\n",
       "dtype: int64"
      ]
     },
     "execution_count": 218,
     "metadata": {},
     "output_type": "execute_result"
    }
   ],
   "source": [
    "ETFs.Region.value_counts()"
   ]
  },
  {
   "cell_type": "code",
   "execution_count": 217,
   "metadata": {
    "collapsed": false
   },
   "outputs": [
    {
     "data": {
      "text/plain": [
       "Energy                     45\n",
       "Technology                 41\n",
       "Financial                  41\n",
       "Industrial                 32\n",
       "Health & Biotech           25\n",
       "Utilities                  17\n",
       "Retail & Consumer          15\n",
       "Materials                  12\n",
       "Communications             11\n",
       "Consumer Staples            6\n",
       "Consumer Discretionary      6\n",
       "Transportation              4\n",
       "Building & Construction     3\n",
       "Agriculture                 3\n",
       "Aerospace & Defense         2\n",
       "Environmental               1\n",
       "dtype: int64"
      ]
     },
     "execution_count": 217,
     "metadata": {},
     "output_type": "execute_result"
    }
   ],
   "source": [
    "ETFs.Sector.value_counts()"
   ]
  },
  {
   "cell_type": "code",
   "execution_count": 216,
   "metadata": {
    "collapsed": false
   },
   "outputs": [
    {
     "data": {
      "text/plain": [
       "2x    116\n",
       "3x     44\n",
       "dtype: int64"
      ]
     },
     "execution_count": 216,
     "metadata": {},
     "output_type": "execute_result"
    }
   ],
   "source": [
    "ETFs.Leveraged.value_counts()"
   ]
  },
  {
   "cell_type": "code",
   "execution_count": 215,
   "metadata": {
    "collapsed": false
   },
   "outputs": [
    {
     "data": {
      "text/plain": [
       "False    914\n",
       "True     106\n",
       "dtype: int64"
      ]
     },
     "execution_count": 215,
     "metadata": {},
     "output_type": "execute_result"
    }
   ],
   "source": [
    "ETFs.Inverse.value_counts()"
   ]
  },
  {
   "cell_type": "markdown",
   "metadata": {},
   "source": [
    "## Places to collect holdings data "
   ]
  },
  {
   "cell_type": "code",
   "execution_count": 213,
   "metadata": {
    "collapsed": true
   },
   "outputs": [],
   "source": [
    "# http://www.etfreplay.com/"
   ]
  },
  {
   "cell_type": "code",
   "execution_count": null,
   "metadata": {
    "collapsed": true
   },
   "outputs": [],
   "source": [
    "# http://etfdb.com/etf/###\n",
    "# http://finance.yahoo.com/q/hl?s=### ETF holdings"
   ]
  },
  {
   "cell_type": "code",
   "execution_count": null,
   "metadata": {
    "collapsed": true
   },
   "outputs": [],
   "source": [
    "# https://accounts.profunds.com/etfdata/ByFund/EFAD-psdlyhld.csv\n",
    "# http://www.ishares.com/us/products/239709/ishares-russell-2000-growth-etf"
   ]
  },
  {
   "cell_type": "code",
   "execution_count": null,
   "metadata": {
    "collapsed": true
   },
   "outputs": [],
   "source": []
  }
 ],
 "metadata": {
  "kernelspec": {
   "display_name": "Python 2",
   "language": "python",
   "name": "python2"
  },
  "language_info": {
   "codemirror_mode": {
    "name": "ipython",
    "version": 2
   },
   "file_extension": ".py",
   "mimetype": "text/x-python",
   "name": "python",
   "nbconvert_exporter": "python",
   "pygments_lexer": "ipython2",
   "version": "2.7.9"
  }
 },
 "nbformat": 4,
 "nbformat_minor": 0
}
